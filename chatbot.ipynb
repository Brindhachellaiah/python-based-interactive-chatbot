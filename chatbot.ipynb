{
 "cells": [
  {
   "cell_type": "markdown",
   "metadata": {},
   "source": [
    "### Designing the python based interactive chatbot"
   ]
  },
  {
   "cell_type": "markdown",
   "metadata": {},
   "source": [
    "#### Step 1: Importing Libraries"
   ]
  },
  {
   "cell_type": "code",
   "execution_count": 37,
   "metadata": {
    "colab": {
     "base_uri": "https://localhost:8080/"
    },
    "id": "BC8g5aVx-M-7",
    "outputId": "b4d229f0-ecad-4895-b36a-c10b48292ec6"
   },
   "outputs": [
    {
     "name": "stderr",
     "output_type": "stream",
     "text": [
      "[nltk_data] Downloading package punkt to\n",
      "[nltk_data]     C:\\Users\\Brindha\\AppData\\Roaming\\nltk_data...\n",
      "[nltk_data]   Package punkt is already up-to-date!\n",
      "[nltk_data] Downloading package wordnet to\n",
      "[nltk_data]     C:\\Users\\Brindha\\AppData\\Roaming\\nltk_data...\n",
      "[nltk_data]   Package wordnet is already up-to-date!\n"
     ]
    },
    {
     "data": {
      "text/plain": [
       "True"
      ]
     },
     "execution_count": 37,
     "metadata": {},
     "output_type": "execute_result"
    }
   ],
   "source": [
    "import json\n",
    "import string\n",
    "import random \n",
    "import nltk\n",
    "import numpy as np\n",
    "from nltk.stem import WordNetLemmatizer \n",
    "import tensorflow as tf \n",
    "from tensorflow.keras import Sequential \n",
    "from tensorflow.keras.layers import Dense, Dropout\n",
    "nltk.download(\"punkt\")\n",
    "nltk.download(\"wordnet\")"
   ]
  },
  {
   "cell_type": "code",
   "execution_count": 38,
   "metadata": {
    "colab": {
     "base_uri": "https://localhost:8080/"
    },
    "id": "_4KIcmY1-2c-",
    "outputId": "96d7dba1-af39-4851-c322-94567076be23"
   },
   "outputs": [
    {
     "name": "stderr",
     "output_type": "stream",
     "text": [
      "[nltk_data] Downloading package punkt to\n",
      "[nltk_data]     C:\\Users\\Brindha\\AppData\\Roaming\\nltk_data...\n",
      "[nltk_data]   Package punkt is already up-to-date!\n",
      "[nltk_data] Downloading package wordnet to\n",
      "[nltk_data]     C:\\Users\\Brindha\\AppData\\Roaming\\nltk_data...\n",
      "[nltk_data]   Package wordnet is already up-to-date!\n"
     ]
    }
   ],
   "source": [
    "import nltk\n",
    "nltk.download('punkt')\n",
    "nltk.download('wordnet')\n",
    "from nltk.stem import WordNetLemmatizer\n",
    "lemmatizer = WordNetLemmatizer()\n",
    "import json\n",
    "import pickle\n",
    "\n",
    "import numpy as np\n",
    "from keras.models import Sequential\n",
    "from keras.layers import Dense, Activation, Dropout\n",
    "from keras.optimizers import SGD\n",
    "import random"
   ]
  },
  {
   "cell_type": "markdown",
   "metadata": {},
   "source": [
    "#### Step 2: Loading and Preprocessing the data"
   ]
  },
  {
   "cell_type": "code",
   "execution_count": 39,
   "metadata": {
    "id": "zJzjZP2d-4To"
   },
   "outputs": [],
   "source": [
    "words=[]\n",
    "classes = []\n",
    "documents = []\n",
    "ignore_words = ['?', '!']\n",
    "data_file = open('intents_chat.json').read()\n",
    "intents = json.loads(data_file)"
   ]
  },
  {
   "cell_type": "code",
   "execution_count": 40,
   "metadata": {
    "id": "qyngOEHN_ELg"
   },
   "outputs": [],
   "source": [
    "for intent in intents['intents']:\n",
    "    for pattern in intent['patterns']:\n",
    "\n",
    "        # taking each word and tokenizing it\n",
    "        w = nltk.word_tokenize(pattern)\n",
    "        words.extend(w)\n",
    "        # adding documents\n",
    "        documents.append((w, intent['tag']))\n",
    "\n",
    "        # adding classes to our class list\n",
    "        if intent['tag'] not in classes:\n",
    "            classes.append(intent['tag'])"
   ]
  },
  {
   "cell_type": "markdown",
   "metadata": {},
   "source": [
    "#### Step 3: Lemmatization, that can convert words into the lemma form so that we can reduce all the canonical words. Hence, we lemmatize each word and remove the duplicate words."
   ]
  },
  {
   "cell_type": "code",
   "execution_count": 41,
   "metadata": {
    "colab": {
     "base_uri": "https://localhost:8080/"
    },
    "id": "5LudVOg7_Iyn",
    "outputId": "b891485e-d92e-4eb0-f39f-43ddc89bd99b"
   },
   "outputs": [
    {
     "name": "stdout",
     "output_type": "stream",
     "text": [
      "181 documents\n",
      "21 classes ['Bot', 'NN', 'Olympus', 'Profane', 'SL', 'Ticket', 'about', 'app', 'competitions', 'contact', 'email_id', 'forgot_password', 'goodbye', 'greeting', 'hours', 'job_related_problem', 'missing_id', 'newcourse', 'options', 'project_handling_queries', 'thanks']\n",
      "221 unique lemmatized words [\"'s\", ',', '2021', '@', 'a', 'abc', 'able', 'abx', 'access', 'account', 'activation', 'ada', 'adam', 'additional', 'address', 'am', 'an', 'ann', 'another', 'anyone', 'application', 'apply', 'are', 'artificial', 'assignment', 'available', 'awesome', 'backward', 'bad', 'bagging', 'batch', 'bayes', 'be', 'been', 'bloody', 'boosting', 'bot', 'bye', 'can', 'challenging', 'chatting', 'classification', 'classroom', 'competition', 'complaint', 'complete', 'contact', 'could', 'course', 'create', 'cross', 'day', 'deep', 'did', 'diffult', 'do', 'doing', 'enroll', 'ensemble', 'epoch', 'event', 'explain', 'for', 'forest', 'forgets', 'forgot', 'forward', 'function', 'future', 'get', 'gmail.com', 'go', 'good', 'goodbye', 'gradient', 'great', 'ha', 'hackathons', 'hate', 'have', 'hell', 'hello', 'help', 'helpful', 'helping', 'hey', 'hi', 'hidden', 'hour', 'how', 'hyper', 'i', 'imputer', 'in', 'insufficient', 'intelligence', 'is', 'issue', 'jerk', 'job', 'join', 'joke', 'kiit.ac.in', 'knn', 'later', 'layer', 'learning', 'link', 'logging', 'login', 'logistic', 'lot', 'machine', 'material', 'me', 'ml', 'mobile', 'my', 'naive', 'name', 'nb', 'need', 'needed', 'net', 'network', 'neural', 'new', 'next', 'nice', 'no', 'not', 'number', 'of', 'olympus', 'olypus', 'on', 'open', 'operation', 'opertions', 'other', 'otimizer', 'over', 'parameter', 'password', 'person', 'phone', 'piece', 'please', 'portal', 'post', 'problem', 'project', 'propagation', 'provide', 'raised', 'random', 'reach', 'received', 'regression', 'related', 'relu', 'respone', 'response', 'resume', 'screw', 'see', 'sgd', 'shit', 'should', 'sigmoid', 'sl', 'smart', 'softmax', 'solution', 'solved', 'someone', 'stupid', 'supervised', 'support', 'svm', 'teach', 'techb=niques', 'technical', 'technique', 'thank', 'thanks', 'that', 'the', 'there', 'think', 'through', 'ticket', 'till', 'time', 'to', 'tool', 'unable', 'understand', 'updating', 'use', 'useless', 'validation', 'very', 'virtual', 'visible', 'want', 'wasted', 'weight', 'what', 'when', 'who', 'whom', 'window', 'with', 'work', 'working', 'worthless', 'yet', 'yo', 'you', 'your']\n"
     ]
    }
   ],
   "source": [
    "words = [lemmatizer.lemmatize(w.lower()) for w in words if w not in ignore_words]\n",
    "words = sorted(list(set(words)))\n",
    "classes = sorted(list(set(classes)))\n",
    "print (len(documents), \"documents\")\n",
    "print (len(classes), \"classes\", classes)\n",
    "print (len(words), \"unique lemmatized words\", words)\n",
    "pickle.dump(words,open('words.pkl','wb'))\n",
    "pickle.dump(classes,open('classes.pkl','wb'))"
   ]
  },
  {
   "cell_type": "markdown",
   "metadata": {},
   "source": [
    "#### Step 4: Building the Training and Testing data"
   ]
  },
  {
   "cell_type": "code",
   "execution_count": 42,
   "metadata": {
    "colab": {
     "base_uri": "https://localhost:8080/"
    },
    "id": "X_tA9i9B_QBL",
    "outputId": "1de4cdbd-f7e7-45aa-8fa8-c4a823291ec6"
   },
   "outputs": [
    {
     "name": "stdout",
     "output_type": "stream",
     "text": [
      "Training data created\n"
     ]
    },
    {
     "name": "stderr",
     "output_type": "stream",
     "text": [
      "<ipython-input-42-1a891a7a8859>:22: VisibleDeprecationWarning: Creating an ndarray from ragged nested sequences (which is a list-or-tuple of lists-or-tuples-or ndarrays with different lengths or shapes) is deprecated. If you meant to do this, you must specify 'dtype=object' when creating the ndarray\n",
      "  training = np.array(training)\n"
     ]
    }
   ],
   "source": [
    "# initializing training data\n",
    "training = []\n",
    "output_empty = [0] * len(classes)\n",
    "for doc in documents:\n",
    "    # initializing bag of words\n",
    "    bag = []\n",
    "    # list of tokenized words for the pattern\n",
    "    pattern_words = doc[0]\n",
    "    # lemmatize each word - create base word, in attempt to represent related words\n",
    "    pattern_words = [lemmatizer.lemmatize(word.lower()) for word in pattern_words]\n",
    "    # creating our bag of words array with 1, if word match found in current pattern\n",
    "    for w in words:\n",
    "        bag.append(1) if w in pattern_words else bag.append(0)\n",
    "\n",
    "    # output is a '0' for each tag and '1' for current tag (for each pattern)\n",
    "    output_row = list(output_empty)\n",
    "    output_row[classes.index(doc[1])] = 1\n",
    "\n",
    "    training.append([bag, output_row])\n",
    "# shuffle our features and turn into np.array\n",
    "random.shuffle(training)\n",
    "training = np.array(training)\n",
    "# creating train and test lists. X - patterns, Y - intents\n",
    "train_x = list(training[:,0])\n",
    "train_y = list(training[:,1])\n",
    "print(\"Training data created\")"
   ]
  },
  {
   "cell_type": "markdown",
   "metadata": {},
   "source": [
    "#### Step 5: Model to train the data"
   ]
  },
  {
   "cell_type": "code",
   "execution_count": 43,
   "metadata": {
    "colab": {
     "base_uri": "https://localhost:8080/"
    },
    "id": "-9Ndl8Xm_WB5",
    "outputId": "7a9119bd-c28f-4b2b-b0d9-2741eeb51586"
   },
   "outputs": [
    {
     "name": "stdout",
     "output_type": "stream",
     "text": [
      "Epoch 1/200\n",
      "37/37 [==============================] - 1s 5ms/step - loss: 2.9168 - accuracy: 0.1932\n",
      "Epoch 2/200\n",
      "37/37 [==============================] - 0s 4ms/step - loss: 2.4790 - accuracy: 0.2977\n",
      "Epoch 3/200\n",
      "37/37 [==============================] - 0s 4ms/step - loss: 2.3093 - accuracy: 0.3032\n",
      "Epoch 4/200\n",
      "37/37 [==============================] - 0s 4ms/step - loss: 2.2785 - accuracy: 0.2957\n",
      "Epoch 5/200\n",
      "37/37 [==============================] - 0s 4ms/step - loss: 2.1290 - accuracy: 0.3457\n",
      "Epoch 6/200\n",
      "37/37 [==============================] - 0s 4ms/step - loss: 2.1049 - accuracy: 0.4135\n",
      "Epoch 7/200\n",
      "37/37 [==============================] - 0s 4ms/step - loss: 1.6231 - accuracy: 0.5800\n",
      "Epoch 8/200\n",
      "37/37 [==============================] - 0s 4ms/step - loss: 1.6843 - accuracy: 0.4758\n",
      "Epoch 9/200\n",
      "37/37 [==============================] - 0s 4ms/step - loss: 1.6561 - accuracy: 0.4835\n",
      "Epoch 10/200\n",
      "37/37 [==============================] - 0s 4ms/step - loss: 1.4341 - accuracy: 0.5259\n",
      "Epoch 11/200\n",
      "37/37 [==============================] - 0s 4ms/step - loss: 1.4229 - accuracy: 0.5484\n",
      "Epoch 12/200\n",
      "37/37 [==============================] - 0s 4ms/step - loss: 1.2460 - accuracy: 0.6005\n",
      "Epoch 13/200\n",
      "37/37 [==============================] - 0s 4ms/step - loss: 1.3199 - accuracy: 0.6282\n",
      "Epoch 14/200\n",
      "37/37 [==============================] - 0s 4ms/step - loss: 1.0440 - accuracy: 0.6859\n",
      "Epoch 15/200\n",
      "37/37 [==============================] - 0s 4ms/step - loss: 1.0265 - accuracy: 0.6954\n",
      "Epoch 16/200\n",
      "37/37 [==============================] - 0s 4ms/step - loss: 0.9468 - accuracy: 0.7885\n",
      "Epoch 17/200\n",
      "37/37 [==============================] - 0s 4ms/step - loss: 0.8355 - accuracy: 0.7648\n",
      "Epoch 18/200\n",
      "37/37 [==============================] - 0s 4ms/step - loss: 0.9284 - accuracy: 0.7266\n",
      "Epoch 19/200\n",
      "37/37 [==============================] - 0s 4ms/step - loss: 0.7404 - accuracy: 0.7916\n",
      "Epoch 20/200\n",
      "37/37 [==============================] - 0s 4ms/step - loss: 0.8242 - accuracy: 0.7542\n",
      "Epoch 21/200\n",
      "37/37 [==============================] - 0s 4ms/step - loss: 0.6152 - accuracy: 0.8127\n",
      "Epoch 22/200\n",
      "37/37 [==============================] - 0s 4ms/step - loss: 0.6840 - accuracy: 0.8024\n",
      "Epoch 23/200\n",
      "37/37 [==============================] - 0s 4ms/step - loss: 0.5622 - accuracy: 0.8454\n",
      "Epoch 24/200\n",
      "37/37 [==============================] - 0s 5ms/step - loss: 0.5497 - accuracy: 0.8287\n",
      "Epoch 25/200\n",
      "37/37 [==============================] - 0s 4ms/step - loss: 0.4337 - accuracy: 0.8474\n",
      "Epoch 26/200\n",
      "37/37 [==============================] - 0s 4ms/step - loss: 0.3706 - accuracy: 0.8935\n",
      "Epoch 27/200\n",
      "37/37 [==============================] - 0s 4ms/step - loss: 0.4794 - accuracy: 0.8554\n",
      "Epoch 28/200\n",
      "37/37 [==============================] - 0s 4ms/step - loss: 0.3839 - accuracy: 0.9157\n",
      "Epoch 29/200\n",
      "37/37 [==============================] - 0s 4ms/step - loss: 0.4053 - accuracy: 0.8734\n",
      "Epoch 30/200\n",
      "37/37 [==============================] - 0s 4ms/step - loss: 0.4573 - accuracy: 0.8611\n",
      "Epoch 31/200\n",
      "37/37 [==============================] - 0s 4ms/step - loss: 0.3471 - accuracy: 0.8743\n",
      "Epoch 32/200\n",
      "37/37 [==============================] - 0s 4ms/step - loss: 0.4404 - accuracy: 0.8733\n",
      "Epoch 33/200\n",
      "37/37 [==============================] - 0s 4ms/step - loss: 0.2707 - accuracy: 0.9522\n",
      "Epoch 34/200\n",
      "37/37 [==============================] - 0s 4ms/step - loss: 0.4447 - accuracy: 0.8738\n",
      "Epoch 35/200\n",
      "37/37 [==============================] - 0s 4ms/step - loss: 0.2084 - accuracy: 0.9461\n",
      "Epoch 36/200\n",
      "37/37 [==============================] - 0s 4ms/step - loss: 0.2623 - accuracy: 0.9273\n",
      "Epoch 37/200\n",
      "37/37 [==============================] - 0s 4ms/step - loss: 0.2777 - accuracy: 0.9217\n",
      "Epoch 38/200\n",
      "37/37 [==============================] - 0s 4ms/step - loss: 0.2437 - accuracy: 0.8944\n",
      "Epoch 39/200\n",
      "37/37 [==============================] - 0s 4ms/step - loss: 0.3223 - accuracy: 0.8803\n",
      "Epoch 40/200\n",
      "37/37 [==============================] - 0s 4ms/step - loss: 0.2215 - accuracy: 0.9432\n",
      "Epoch 41/200\n",
      "37/37 [==============================] - 0s 4ms/step - loss: 0.3532 - accuracy: 0.9168\n",
      "Epoch 42/200\n",
      "37/37 [==============================] - 0s 4ms/step - loss: 0.1875 - accuracy: 0.9669\n",
      "Epoch 43/200\n",
      "37/37 [==============================] - 0s 4ms/step - loss: 0.1328 - accuracy: 0.9762\n",
      "Epoch 44/200\n",
      "37/37 [==============================] - 0s 5ms/step - loss: 0.2248 - accuracy: 0.9282\n",
      "Epoch 45/200\n",
      "37/37 [==============================] - 0s 4ms/step - loss: 0.2437 - accuracy: 0.9185\n",
      "Epoch 46/200\n",
      "37/37 [==============================] - 0s 5ms/step - loss: 0.2276 - accuracy: 0.9263\n",
      "Epoch 47/200\n",
      "37/37 [==============================] - 0s 5ms/step - loss: 0.1549 - accuracy: 0.9721\n",
      "Epoch 48/200\n",
      "37/37 [==============================] - 0s 5ms/step - loss: 0.2585 - accuracy: 0.9282\n",
      "Epoch 49/200\n",
      "37/37 [==============================] - 0s 5ms/step - loss: 0.2201 - accuracy: 0.9271\n",
      "Epoch 50/200\n",
      "37/37 [==============================] - 0s 4ms/step - loss: 0.2026 - accuracy: 0.9198\n",
      "Epoch 51/200\n",
      "37/37 [==============================] - 0s 5ms/step - loss: 0.2558 - accuracy: 0.9064\n",
      "Epoch 52/200\n",
      "37/37 [==============================] - 0s 4ms/step - loss: 0.1955 - accuracy: 0.9522\n",
      "Epoch 53/200\n",
      "37/37 [==============================] - 0s 4ms/step - loss: 0.2384 - accuracy: 0.9352\n",
      "Epoch 54/200\n",
      "37/37 [==============================] - 0s 4ms/step - loss: 0.2146 - accuracy: 0.9157\n",
      "Epoch 55/200\n",
      "37/37 [==============================] - 0s 4ms/step - loss: 0.1500 - accuracy: 0.9654\n",
      "Epoch 56/200\n",
      "37/37 [==============================] - 0s 4ms/step - loss: 0.1609 - accuracy: 0.9602\n",
      "Epoch 57/200\n",
      "37/37 [==============================] - 0s 4ms/step - loss: 0.1500 - accuracy: 0.9481\n",
      "Epoch 58/200\n",
      "37/37 [==============================] - 0s 4ms/step - loss: 0.1715 - accuracy: 0.9446\n",
      "Epoch 59/200\n",
      "37/37 [==============================] - 0s 4ms/step - loss: 0.1777 - accuracy: 0.9483\n",
      "Epoch 60/200\n",
      "37/37 [==============================] - 0s 4ms/step - loss: 0.1152 - accuracy: 0.9694\n",
      "Epoch 61/200\n",
      "37/37 [==============================] - 0s 4ms/step - loss: 0.1355 - accuracy: 0.9556\n",
      "Epoch 62/200\n",
      "37/37 [==============================] - 0s 4ms/step - loss: 0.2361 - accuracy: 0.9087\n",
      "Epoch 63/200\n",
      "37/37 [==============================] - 0s 4ms/step - loss: 0.2923 - accuracy: 0.8884\n",
      "Epoch 64/200\n",
      "37/37 [==============================] - 0s 4ms/step - loss: 0.1354 - accuracy: 0.9681\n",
      "Epoch 65/200\n",
      "37/37 [==============================] - 0s 4ms/step - loss: 0.0980 - accuracy: 0.9713\n",
      "Epoch 66/200\n",
      "37/37 [==============================] - 0s 4ms/step - loss: 0.1607 - accuracy: 0.9505\n",
      "Epoch 67/200\n",
      "37/37 [==============================] - 0s 4ms/step - loss: 0.1201 - accuracy: 0.9672\n",
      "Epoch 68/200\n",
      "37/37 [==============================] - 0s 4ms/step - loss: 0.1557 - accuracy: 0.9614\n",
      "Epoch 69/200\n",
      "37/37 [==============================] - 0s 4ms/step - loss: 0.1249 - accuracy: 0.9583\n",
      "Epoch 70/200\n",
      "37/37 [==============================] - 0s 5ms/step - loss: 0.1365 - accuracy: 0.9580\n",
      "Epoch 71/200\n",
      "37/37 [==============================] - 0s 4ms/step - loss: 0.1725 - accuracy: 0.9383\n",
      "Epoch 72/200\n",
      "37/37 [==============================] - 0s 4ms/step - loss: 0.1170 - accuracy: 0.9720\n",
      "Epoch 73/200\n",
      "37/37 [==============================] - 0s 4ms/step - loss: 0.1170 - accuracy: 0.9762\n",
      "Epoch 74/200\n",
      "37/37 [==============================] - 0s 4ms/step - loss: 0.0766 - accuracy: 0.9888\n",
      "Epoch 75/200\n",
      "37/37 [==============================] - 0s 5ms/step - loss: 0.1094 - accuracy: 0.9718\n",
      "Epoch 76/200\n",
      "37/37 [==============================] - 0s 5ms/step - loss: 0.1242 - accuracy: 0.9767\n",
      "Epoch 77/200\n",
      "37/37 [==============================] - 0s 5ms/step - loss: 0.0814 - accuracy: 0.9874: 0s - loss: 0.0787 - accuracy: 0.98\n",
      "Epoch 78/200\n",
      "37/37 [==============================] - 0s 4ms/step - loss: 0.1144 - accuracy: 0.9550\n",
      "Epoch 79/200\n",
      "37/37 [==============================] - 0s 4ms/step - loss: 0.0879 - accuracy: 0.9826\n",
      "Epoch 80/200\n",
      "37/37 [==============================] - 0s 5ms/step - loss: 0.0675 - accuracy: 0.9795\n",
      "Epoch 81/200\n",
      "37/37 [==============================] - 0s 5ms/step - loss: 0.0718 - accuracy: 0.9844\n",
      "Epoch 82/200\n",
      "37/37 [==============================] - 0s 4ms/step - loss: 0.1327 - accuracy: 0.9433\n",
      "Epoch 83/200\n",
      "37/37 [==============================] - 0s 4ms/step - loss: 0.0953 - accuracy: 0.9679\n",
      "Epoch 84/200\n",
      "37/37 [==============================] - 0s 4ms/step - loss: 0.0749 - accuracy: 0.9783\n",
      "Epoch 85/200\n",
      "37/37 [==============================] - 0s 4ms/step - loss: 0.1405 - accuracy: 0.9719\n",
      "Epoch 86/200\n",
      "37/37 [==============================] - 0s 4ms/step - loss: 0.0985 - accuracy: 0.9724\n",
      "Epoch 87/200\n",
      "37/37 [==============================] - 0s 4ms/step - loss: 0.0752 - accuracy: 0.9689\n",
      "Epoch 88/200\n",
      "37/37 [==============================] - 0s 5ms/step - loss: 0.1043 - accuracy: 0.9656\n",
      "Epoch 89/200\n",
      "37/37 [==============================] - 0s 4ms/step - loss: 0.0583 - accuracy: 0.9860\n",
      "Epoch 90/200\n",
      "37/37 [==============================] - 0s 4ms/step - loss: 0.0980 - accuracy: 0.9808\n",
      "Epoch 91/200\n",
      "37/37 [==============================] - 0s 5ms/step - loss: 0.1216 - accuracy: 0.9557\n",
      "Epoch 92/200\n",
      "37/37 [==============================] - 0s 4ms/step - loss: 0.1418 - accuracy: 0.9664\n",
      "Epoch 93/200\n",
      "37/37 [==============================] - 0s 5ms/step - loss: 0.0734 - accuracy: 0.9834\n",
      "Epoch 94/200\n",
      "37/37 [==============================] - 0s 5ms/step - loss: 0.0582 - accuracy: 0.9937\n",
      "Epoch 95/200\n",
      "37/37 [==============================] - 0s 5ms/step - loss: 0.0706 - accuracy: 0.9819\n",
      "Epoch 96/200\n",
      "37/37 [==============================] - 0s 5ms/step - loss: 0.1300 - accuracy: 0.9685\n",
      "Epoch 97/200\n",
      "37/37 [==============================] - 0s 5ms/step - loss: 0.0670 - accuracy: 0.9750\n",
      "Epoch 98/200\n",
      "37/37 [==============================] - 0s 5ms/step - loss: 0.0527 - accuracy: 0.9873\n",
      "Epoch 99/200\n",
      "37/37 [==============================] - 0s 4ms/step - loss: 0.0944 - accuracy: 0.9671\n",
      "Epoch 100/200\n",
      "37/37 [==============================] - 0s 5ms/step - loss: 0.0594 - accuracy: 0.9894\n",
      "Epoch 101/200\n",
      "37/37 [==============================] - 0s 5ms/step - loss: 0.0553 - accuracy: 0.9890\n",
      "Epoch 102/200\n",
      "37/37 [==============================] - 0s 4ms/step - loss: 0.0943 - accuracy: 0.9673\n",
      "Epoch 103/200\n",
      "37/37 [==============================] - 0s 4ms/step - loss: 0.0835 - accuracy: 0.9720\n",
      "Epoch 104/200\n",
      "37/37 [==============================] - 0s 5ms/step - loss: 0.0576 - accuracy: 0.9745\n",
      "Epoch 105/200\n",
      "37/37 [==============================] - 0s 5ms/step - loss: 0.0796 - accuracy: 0.9860\n",
      "Epoch 106/200\n",
      "37/37 [==============================] - 0s 4ms/step - loss: 0.0682 - accuracy: 0.9890\n",
      "Epoch 107/200\n",
      "37/37 [==============================] - 0s 5ms/step - loss: 0.0481 - accuracy: 0.9917\n",
      "Epoch 108/200\n",
      "37/37 [==============================] - 0s 5ms/step - loss: 0.1981 - accuracy: 0.9360\n",
      "Epoch 109/200\n",
      "37/37 [==============================] - 0s 5ms/step - loss: 0.0499 - accuracy: 0.9781\n",
      "Epoch 110/200\n",
      "37/37 [==============================] - 0s 6ms/step - loss: 0.1274 - accuracy: 0.9439\n",
      "Epoch 111/200\n",
      "37/37 [==============================] - 0s 5ms/step - loss: 0.0395 - accuracy: 0.9863\n",
      "Epoch 112/200\n",
      "37/37 [==============================] - 0s 5ms/step - loss: 0.0915 - accuracy: 0.9722\n",
      "Epoch 113/200\n",
      "37/37 [==============================] - 0s 5ms/step - loss: 0.2112 - accuracy: 0.9390\n",
      "Epoch 114/200\n",
      "37/37 [==============================] - 0s 5ms/step - loss: 0.1319 - accuracy: 0.9402\n",
      "Epoch 115/200\n",
      "37/37 [==============================] - 0s 5ms/step - loss: 0.0432 - accuracy: 0.9965\n",
      "Epoch 116/200\n",
      "37/37 [==============================] - 0s 5ms/step - loss: 0.0511 - accuracy: 0.9872\n",
      "Epoch 117/200\n",
      "37/37 [==============================] - 0s 5ms/step - loss: 0.0624 - accuracy: 0.9682\n",
      "Epoch 118/200\n",
      "37/37 [==============================] - 0s 5ms/step - loss: 0.0601 - accuracy: 0.9855\n",
      "Epoch 119/200\n",
      "37/37 [==============================] - 0s 4ms/step - loss: 0.0964 - accuracy: 0.9562\n",
      "Epoch 120/200\n",
      "37/37 [==============================] - 0s 5ms/step - loss: 0.0774 - accuracy: 0.9644\n",
      "Epoch 121/200\n",
      "37/37 [==============================] - 0s 5ms/step - loss: 0.0409 - accuracy: 0.9888\n",
      "Epoch 122/200\n",
      "37/37 [==============================] - 0s 5ms/step - loss: 0.1944 - accuracy: 0.9224\n",
      "Epoch 123/200\n",
      "37/37 [==============================] - 0s 5ms/step - loss: 0.0970 - accuracy: 0.9577\n",
      "Epoch 124/200\n",
      "37/37 [==============================] - 0s 5ms/step - loss: 0.1098 - accuracy: 0.9537\n",
      "Epoch 125/200\n",
      "37/37 [==============================] - 0s 5ms/step - loss: 0.0876 - accuracy: 0.9642\n",
      "Epoch 126/200\n",
      "37/37 [==============================] - 0s 5ms/step - loss: 0.0479 - accuracy: 0.9876\n",
      "Epoch 127/200\n",
      "37/37 [==============================] - 0s 6ms/step - loss: 0.0565 - accuracy: 0.9740\n",
      "Epoch 128/200\n",
      "37/37 [==============================] - 0s 5ms/step - loss: 0.0841 - accuracy: 0.9633\n",
      "Epoch 129/200\n",
      "37/37 [==============================] - 0s 5ms/step - loss: 0.0821 - accuracy: 0.9732\n",
      "Epoch 130/200\n",
      "37/37 [==============================] - 0s 5ms/step - loss: 0.0703 - accuracy: 0.9887\n",
      "Epoch 131/200\n",
      "37/37 [==============================] - 0s 5ms/step - loss: 0.0320 - accuracy: 0.9924\n",
      "Epoch 132/200\n",
      "37/37 [==============================] - 0s 5ms/step - loss: 0.0728 - accuracy: 0.9812\n",
      "Epoch 133/200\n",
      "37/37 [==============================] - 0s 4ms/step - loss: 0.0458 - accuracy: 0.9643\n",
      "Epoch 134/200\n",
      "37/37 [==============================] - 0s 4ms/step - loss: 0.0484 - accuracy: 0.9790\n",
      "Epoch 135/200\n",
      "37/37 [==============================] - 0s 5ms/step - loss: 0.0579 - accuracy: 0.9739\n",
      "Epoch 136/200\n",
      "37/37 [==============================] - 0s 5ms/step - loss: 0.0389 - accuracy: 0.9903\n",
      "Epoch 137/200\n",
      "37/37 [==============================] - 0s 5ms/step - loss: 0.0998 - accuracy: 0.9627\n",
      "Epoch 138/200\n",
      "37/37 [==============================] - 0s 5ms/step - loss: 0.0378 - accuracy: 0.9951\n",
      "Epoch 139/200\n",
      "37/37 [==============================] - 0s 5ms/step - loss: 0.0595 - accuracy: 0.9695\n",
      "Epoch 140/200\n",
      "37/37 [==============================] - 0s 5ms/step - loss: 0.0756 - accuracy: 0.9980\n",
      "Epoch 141/200\n",
      "37/37 [==============================] - 0s 5ms/step - loss: 0.0505 - accuracy: 0.9926\n",
      "Epoch 142/200\n",
      "37/37 [==============================] - 0s 4ms/step - loss: 0.0372 - accuracy: 0.9823\n",
      "Epoch 143/200\n",
      "37/37 [==============================] - 0s 5ms/step - loss: 0.0740 - accuracy: 0.9751\n",
      "Epoch 144/200\n",
      "37/37 [==============================] - 0s 5ms/step - loss: 0.0524 - accuracy: 0.9788\n",
      "Epoch 145/200\n",
      "37/37 [==============================] - 0s 4ms/step - loss: 0.0645 - accuracy: 0.9733\n",
      "Epoch 146/200\n",
      "37/37 [==============================] - 0s 5ms/step - loss: 0.0514 - accuracy: 0.9844\n",
      "Epoch 147/200\n",
      "37/37 [==============================] - 0s 5ms/step - loss: 0.0538 - accuracy: 0.9814\n",
      "Epoch 148/200\n",
      "37/37 [==============================] - 0s 5ms/step - loss: 0.0389 - accuracy: 0.9888\n",
      "Epoch 149/200\n",
      "37/37 [==============================] - 0s 5ms/step - loss: 0.1302 - accuracy: 0.9437\n",
      "Epoch 150/200\n",
      "37/37 [==============================] - 0s 5ms/step - loss: 0.0685 - accuracy: 0.9792\n",
      "Epoch 151/200\n",
      "37/37 [==============================] - 0s 5ms/step - loss: 0.0349 - accuracy: 1.0000\n",
      "Epoch 152/200\n",
      "37/37 [==============================] - 0s 5ms/step - loss: 0.0180 - accuracy: 0.9916\n",
      "Epoch 153/200\n",
      "37/37 [==============================] - 0s 5ms/step - loss: 0.0280 - accuracy: 0.9945\n",
      "Epoch 154/200\n",
      "37/37 [==============================] - 0s 5ms/step - loss: 0.0279 - accuracy: 0.9980\n",
      "Epoch 155/200\n",
      "37/37 [==============================] - 0s 5ms/step - loss: 0.0318 - accuracy: 0.9856\n",
      "Epoch 156/200\n",
      "37/37 [==============================] - 0s 4ms/step - loss: 0.0551 - accuracy: 0.9742\n",
      "Epoch 157/200\n",
      "37/37 [==============================] - 0s 5ms/step - loss: 0.0635 - accuracy: 0.9861\n",
      "Epoch 158/200\n",
      "37/37 [==============================] - 0s 5ms/step - loss: 0.0211 - accuracy: 0.9961\n",
      "Epoch 159/200\n",
      "37/37 [==============================] - 0s 5ms/step - loss: 0.0289 - accuracy: 0.9956\n",
      "Epoch 160/200\n",
      "37/37 [==============================] - 0s 5ms/step - loss: 0.0567 - accuracy: 0.9893\n",
      "Epoch 161/200\n",
      "37/37 [==============================] - 0s 5ms/step - loss: 0.0690 - accuracy: 0.9791\n",
      "Epoch 162/200\n",
      "37/37 [==============================] - 0s 5ms/step - loss: 0.0290 - accuracy: 0.9956\n",
      "Epoch 163/200\n",
      "37/37 [==============================] - 0s 5ms/step - loss: 0.0296 - accuracy: 0.9881\n",
      "Epoch 164/200\n",
      "37/37 [==============================] - 0s 5ms/step - loss: 0.1108 - accuracy: 0.9493\n",
      "Epoch 165/200\n",
      "37/37 [==============================] - 0s 5ms/step - loss: 0.0345 - accuracy: 0.9901\n",
      "Epoch 166/200\n",
      "37/37 [==============================] - 0s 4ms/step - loss: 0.0510 - accuracy: 0.9919\n",
      "Epoch 167/200\n",
      "37/37 [==============================] - 0s 4ms/step - loss: 0.0822 - accuracy: 0.9820\n",
      "Epoch 168/200\n",
      "37/37 [==============================] - 0s 5ms/step - loss: 0.0861 - accuracy: 0.9507\n",
      "Epoch 169/200\n",
      "37/37 [==============================] - 0s 4ms/step - loss: 0.0382 - accuracy: 0.9914\n",
      "Epoch 170/200\n",
      "37/37 [==============================] - 0s 5ms/step - loss: 0.0781 - accuracy: 0.9886\n",
      "Epoch 171/200\n",
      "37/37 [==============================] - 0s 5ms/step - loss: 0.0861 - accuracy: 0.9724\n",
      "Epoch 172/200\n",
      "37/37 [==============================] - 0s 5ms/step - loss: 0.0774 - accuracy: 0.9659\n",
      "Epoch 173/200\n",
      "37/37 [==============================] - 0s 5ms/step - loss: 0.0176 - accuracy: 0.9946\n",
      "Epoch 174/200\n",
      "37/37 [==============================] - 0s 5ms/step - loss: 0.0982 - accuracy: 0.9692\n",
      "Epoch 175/200\n",
      "37/37 [==============================] - 0s 4ms/step - loss: 0.0307 - accuracy: 0.9964\n",
      "Epoch 176/200\n",
      "37/37 [==============================] - 0s 4ms/step - loss: 0.0519 - accuracy: 0.9784\n",
      "Epoch 177/200\n",
      "37/37 [==============================] - 0s 4ms/step - loss: 0.0541 - accuracy: 0.9832\n",
      "Epoch 178/200\n",
      "37/37 [==============================] - 0s 4ms/step - loss: 0.0256 - accuracy: 0.9927\n",
      "Epoch 179/200\n",
      "37/37 [==============================] - 0s 6ms/step - loss: 0.0607 - accuracy: 0.9660\n",
      "Epoch 180/200\n",
      "37/37 [==============================] - 0s 4ms/step - loss: 0.0558 - accuracy: 0.9695\n",
      "Epoch 181/200\n",
      "37/37 [==============================] - 0s 4ms/step - loss: 0.0447 - accuracy: 0.9715\n",
      "Epoch 182/200\n",
      "37/37 [==============================] - 0s 4ms/step - loss: 0.0910 - accuracy: 0.9488\n",
      "Epoch 183/200\n",
      "37/37 [==============================] - 0s 4ms/step - loss: 0.0599 - accuracy: 0.9733\n",
      "Epoch 184/200\n",
      "37/37 [==============================] - 0s 4ms/step - loss: 0.0394 - accuracy: 0.9917\n",
      "Epoch 185/200\n",
      "37/37 [==============================] - 0s 5ms/step - loss: 0.0309 - accuracy: 0.9921\n",
      "Epoch 186/200\n",
      "37/37 [==============================] - 0s 5ms/step - loss: 0.0338 - accuracy: 0.9842\n",
      "Epoch 187/200\n",
      "37/37 [==============================] - 0s 4ms/step - loss: 0.0342 - accuracy: 0.9839\n",
      "Epoch 188/200\n",
      "37/37 [==============================] - 0s 4ms/step - loss: 0.0271 - accuracy: 0.9870\n",
      "Epoch 189/200\n",
      "37/37 [==============================] - 0s 4ms/step - loss: 0.0410 - accuracy: 0.9898\n",
      "Epoch 190/200\n",
      "37/37 [==============================] - 0s 4ms/step - loss: 0.0308 - accuracy: 1.0000\n",
      "Epoch 191/200\n",
      "37/37 [==============================] - 0s 6ms/step - loss: 0.1200 - accuracy: 0.9615\n",
      "Epoch 192/200\n",
      "37/37 [==============================] - 0s 4ms/step - loss: 0.0729 - accuracy: 0.9815\n",
      "Epoch 193/200\n",
      "37/37 [==============================] - 0s 5ms/step - loss: 0.0250 - accuracy: 0.9991\n",
      "Epoch 194/200\n",
      "37/37 [==============================] - 0s 5ms/step - loss: 0.0572 - accuracy: 0.9800\n",
      "Epoch 195/200\n",
      "37/37 [==============================] - 0s 5ms/step - loss: 0.0736 - accuracy: 0.9700\n",
      "Epoch 196/200\n",
      "37/37 [==============================] - 0s 4ms/step - loss: 0.1014 - accuracy: 0.9644\n",
      "Epoch 197/200\n",
      "37/37 [==============================] - 0s 5ms/step - loss: 0.0582 - accuracy: 0.9838\n",
      "Epoch 198/200\n",
      "37/37 [==============================] - 0s 4ms/step - loss: 0.0287 - accuracy: 0.9978\n",
      "Epoch 199/200\n",
      "37/37 [==============================] - 0s 5ms/step - loss: 0.0493 - accuracy: 0.9685\n",
      "Epoch 200/200\n",
      "37/37 [==============================] - 0s 5ms/step - loss: 0.0478 - accuracy: 0.9756\n",
      "model created\n"
     ]
    }
   ],
   "source": [
    "# Create model - 3 layers. First layer 128 neurons, second layer 64 neurons and 3rd output layer contains number of neurons\n",
    "# equal to number of intents to predict output intent with softmax\n",
    "model = Sequential()\n",
    "model.add(Dense(128, input_shape=(len(train_x[0]),), activation='relu'))\n",
    "model.add(Dropout(0.5))\n",
    "model.add(Dense(64, activation='relu'))\n",
    "model.add(Dropout(0.5))\n",
    "model.add(Dense(len(train_y[0]), activation='softmax'))\n",
    "\n",
    "# Compile model. Stochastic gradient descent with Nesterov accelerated gradient gives good results for this model\n",
    "sgd = SGD(lr=0.01, decay=1e-6, momentum=0.9, nesterov=True)\n",
    "model.compile(loss='categorical_crossentropy', optimizer=sgd, metrics=['accuracy'])\n",
    "\n",
    "#fitting and saving the model\n",
    "hist = model.fit(np.array(train_x), np.array(train_y), epochs=200, batch_size=5, verbose=1)\n",
    "model.save('chatbot_model.h5', hist)\n",
    "\n",
    "print(\"model created\")"
   ]
  },
  {
   "cell_type": "markdown",
   "metadata": {},
   "source": [
    "#### Accuracy & Loss Plot"
   ]
  },
  {
   "cell_type": "code",
   "execution_count": 44,
   "metadata": {},
   "outputs": [
    {
     "name": "stdout",
     "output_type": "stream",
     "text": [
      "dict_keys(['loss', 'accuracy'])\n"
     ]
    },
    {
     "data": {
      "image/png": "[encoded data removed]",
      "text/plain": [
       "<Figure size 432x288 with 1 Axes>"
      ]
     },
     "metadata": {
      "needs_background": "light"
     },
     "output_type": "display_data"
    },
    {
     "data": {
      "image/png": "[encoded data removed]",
      "text/plain": [
       "<Figure size 432x288 with 1 Axes>"
      ]
     },
     "metadata": {
      "needs_background": "light"
     },
     "output_type": "display_data"
    }
   ],
   "source": [
    "import matplotlib.pyplot as plt\n",
    "# list all data in history\n",
    "print(hist.history.keys())\n",
    "# summarize history for accuracy\n",
    "plt.plot(hist.history['accuracy'])\n",
    "plt.title('model accuracy')\n",
    "plt.ylabel('accuracy')\n",
    "plt.xlabel('epoch')\n",
    "plt.legend(['train'], loc='lower right')\n",
    "plt.show()\n",
    "# summarize history for loss\n",
    "plt.plot(hist.history['loss'])\n",
    "plt.title('model loss')\n",
    "plt.ylabel('loss')\n",
    "plt.xlabel('epoch')\n",
    "plt.legend(['train'], loc='upper right')\n",
    "plt.show()"
   ]
  },
  {
   "cell_type": "markdown",
   "metadata": {},
   "source": [
    "#### Step 6: Building the Chatbot"
   ]
  },
  {
   "cell_type": "code",
   "execution_count": 45,
   "metadata": {
    "id": "zJqXbV4R_bum"
   },
   "outputs": [],
   "source": [
    "from keras.models import load_model\n",
    "model = load_model('chatbot_model.h5')\n",
    "import json\n",
    "import random\n",
    "intents = json.loads(open('intents_chat.json').read())\n",
    "words = pickle.load(open('words.pkl','rb'))\n",
    "classes = pickle.load(open('classes.pkl','rb'))"
   ]
  },
  {
   "cell_type": "code",
   "execution_count": 46,
   "metadata": {
    "id": "xVIY4GlJ_u2H"
   },
   "outputs": [],
   "source": [
    "def clean_up_sentence(sentence):\n",
    "    sentence_words = nltk.word_tokenize(sentence)\n",
    "    sentence_words = [lemmatizer.lemmatize(word.lower()) for word in sentence_words]\n",
    "    return sentence_words\n",
    "\n",
    "# return bag of words array: 0 or 1 for each word in the bag that exists in the sentence\n",
    "\n",
    "def bow(sentence, words, show_details=True):\n",
    "    # tokenize the pattern\n",
    "    sentence_words = clean_up_sentence(sentence)\n",
    "    # bag of words - matrix of N words, vocabulary matrix\n",
    "    bag = [0]*len(words)\n",
    "    for s in sentence_words:\n",
    "        for i,w in enumerate(words):\n",
    "            if w == s:\n",
    "                # assign 1 if current word is in the vocabulary position\n",
    "                bag[i] = 1\n",
    "                if show_details:\n",
    "                    print (\"found in bag: %s\" % w)\n",
    "    return(np.array(bag))\n",
    "\n",
    "def predict_class(sentence, model):\n",
    "    # filter out predictions below a threshold\n",
    "    p = bow(sentence, words,show_details=False)\n",
    "    res = model.predict(np.array([p]))[0]\n",
    "    ERROR_THRESHOLD = 0.25\n",
    "    results = [[i,r] for i,r in enumerate(res) if r>ERROR_THRESHOLD]\n",
    "    # sort by strength of probability\n",
    "    results.sort(key=lambda x: x[1], reverse=True)\n",
    "    return_list = []\n",
    "    for r in results:\n",
    "        return_list.append({\"intent\": classes[r[0]], \"probability\": str(r[1])})\n",
    "    return return_list\n",
    "\n",
    "def getResponse(ints, intents_json):\n",
    "    tag = ints[0]['intent']\n",
    "    list_of_intents = intents_json['intents']\n",
    "    for i in list_of_intents:\n",
    "        if(i['tag']== tag):\n",
    "            result = random.choice(i['responses'])\n",
    "            break\n",
    "    return result\n",
    "\n",
    "def chatbot_response(msg):\n",
    "    ints = predict_class(msg, model)\n",
    "    res = getResponse(ints, intents)\n",
    "    return res"
   ]
  },
  {
   "cell_type": "markdown",
   "metadata": {},
   "source": [
    "#### Step 7: Creating the GUI"
   ]
  },
  {
   "cell_type": "code",
   "execution_count": 47,
   "metadata": {
    "colab": {
     "base_uri": "https://localhost:8080/",
     "height": 346
    },
    "id": "pOtFrvjx_x7i",
    "outputId": "33884967-79a2-448f-cf28-9958d62b7bfe"
   },
   "outputs": [],
   "source": [
    "# tkinter\n",
    "import tkinter\n",
    "from tkinter import *\n",
    "\n",
    "\n",
    "def send():\n",
    "    msg = EntryBox.get(\"1.0\",'end-1c').strip()\n",
    "    EntryBox.delete(\"0.0\",END)\n",
    "\n",
    "    if msg != '':\n",
    "        ChatLog.config(state=NORMAL)\n",
    "        ChatLog.insert(END, \"You: \" + msg + '\\n\\n')\n",
    "        ChatLog.config(foreground=\"#442265\", font=(\"Verdana\", 12 ))\n",
    "\n",
    "        res = chatbot_response(msg)\n",
    "        ChatLog.insert(END, \"Bot: \" + res + '\\n\\n')\n",
    "\n",
    "        ChatLog.config(state=DISABLED)\n",
    "        ChatLog.yview(END)\n",
    "\n",
    "\n",
    "base = Tk()\n",
    "base.title(\"Academic Support\")\n",
    "base.geometry(\"400x500\")\n",
    "base.resizable(width=FALSE, height=FALSE)\n",
    "\n",
    "#Create Chat window\n",
    "ChatLog = Text(base, bd=0, bg=\"white\", height=\"8\", width=\"50\", font=\"Arial\",)\n",
    "\n",
    "ChatLog.config(state=DISABLED)\n",
    "\n",
    "#Bind scrollbar to Chat window\n",
    "scrollbar = Scrollbar(base, command=ChatLog.yview, cursor=\"heart\")\n",
    "ChatLog['yscrollcommand'] = scrollbar.set\n",
    "\n",
    "#Create Button to send message\n",
    "SendButton = Button(base, font=(\"Verdana\",12,'bold'), text=\"Send\", width=\"12\", height=5,\n",
    "                    bd=0, bg=\"#32de97\", activebackground=\"#3c9d9b\",fg='#ffffff',\n",
    "                    command= send )\n",
    "\n",
    "#Create the box to enter message\n",
    "EntryBox = Text(base, bd=0, bg=\"white\",width=\"29\", height=\"5\", font=\"Arial\")\n",
    "#EntryBox.bind(\"<Return>\", send)\n",
    "\n",
    "\n",
    "#Place all components on the screen\n",
    "scrollbar.place(x=376,y=6, height=386)\n",
    "ChatLog.place(x=6,y=6, height=386, width=370)\n",
    "EntryBox.place(x=128, y=401, height=90, width=265)\n",
    "SendButton.place(x=6, y=401, height=90)\n",
    "\n",
    "base.mainloop()"
   ]
  },
  {
   "cell_type": "code",
   "execution_count": null,
   "metadata": {},
   "outputs": [],
   "source": []
  }
 ],
 "metadata": {
  "colab": {
   "name": "Untitled3.ipynb",
   "provenance": []
  },
  "kernelspec": {
   "display_name": "Python 3",
   "language": "python",
   "name": "python3"
  },
  "language_info": {
   "codemirror_mode": {
    "name": "ipython",
    "version": 3
   },
   "file_extension": ".py",
   "mimetype": "text/x-python",
   "name": "python",
   "nbconvert_exporter": "python",
   "pygments_lexer": "ipython3",
   "version": "3.8.5"
  }
 },
 "nbformat": 4,
 "nbformat_minor": 1
}
